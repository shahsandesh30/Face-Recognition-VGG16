{
 "cells": [
  {
   "cell_type": "code",
   "execution_count": 1,
   "metadata": {},
   "outputs": [],
   "source": [
    "import numpy as np\n",
    "import cv2"
   ]
  },
  {
   "cell_type": "code",
   "execution_count": 2,
   "metadata": {},
   "outputs": [],
   "source": [
    "cap = cv2.VideoCapture(0)\n",
    "face_classifier = cv2.CascadeClassifier('haarcascade_frontalface_default.xml')\n",
    "\n",
    "count = 0\n",
    "while cap.isOpened():\n",
    "    ret, frame = cap.read()\n",
    "    #gray = cv2.cvtColor(frame, cv2.COLOR_BGR2GRAY)\n",
    "    \n",
    "    faces = face_classifier.detectMultiScale(frame, 1.2, 4)\n",
    "    \n",
    "    for (x,y,w,h) in faces:\n",
    "        cv2.rectangle(frame, (x,y-20), (x+w, y+h+20), (0,255,0), 2)\n",
    "        \n",
    "        #cropping face part\n",
    "        face_cropped = frame[y-20:y+h+20, x:x+w]\n",
    "        face_cropped = cv2.resize(face_cropped, (400,400))\n",
    "        \n",
    "        count += 1\n",
    "        #save 200 faces\n",
    "        if count < 201:\n",
    "            file_path_train = './Images/Train/Sandesh/' + str(count) + '.jpg'\n",
    "            cv2.imwrite(file_path_train, face_cropped)\n",
    "            \n",
    "        elif count < 251:\n",
    "            file_path_test = './Images/Test/Sandesh/' + str(count) + '.jpg'\n",
    "            cv2.imwrite(file_path_test, face_cropped)\n",
    "        \n",
    "        else:\n",
    "            break\n",
    "        \n",
    "    cv2.imshow('frame', frame)\n",
    "    \n",
    "    if cv2.waitKey(1) & 0xFF == ord('q'):\n",
    "        break\n",
    "        \n",
    "cap.release()\n",
    "cv2.destroyAllWindows()"
   ]
  },
  {
   "cell_type": "code",
   "execution_count": null,
   "metadata": {},
   "outputs": [],
   "source": []
  }
 ],
 "metadata": {
  "kernelspec": {
   "display_name": "Python 3",
   "language": "python",
   "name": "python3"
  },
  "language_info": {
   "codemirror_mode": {
    "name": "ipython",
    "version": 3
   },
   "file_extension": ".py",
   "mimetype": "text/x-python",
   "name": "python",
   "nbconvert_exporter": "python",
   "pygments_lexer": "ipython3",
   "version": "3.7.4"
  }
 },
 "nbformat": 4,
 "nbformat_minor": 2
}
